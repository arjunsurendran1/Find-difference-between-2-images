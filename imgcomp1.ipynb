{
 "cells": [
  {
   "cell_type": "code",
   "execution_count": 1,
   "id": "10b3b5ae",
   "metadata": {},
   "outputs": [],
   "source": [
    "#import Python Imaging Library (PIL)\n",
    "from PIL import Image, ImageChops\n"
   ]
  },
  {
   "cell_type": "code",
   "execution_count": null,
   "id": "9fc4859e",
   "metadata": {},
   "outputs": [],
   "source": [
    "#load Images\n",
    "img1 = Image.open('1.jpg')\n",
    "img2 = Image.open('2.jpg')\n",
    "\n",
    "#find Difference between 2 images\n",
    "diff = ImageChops.difference(img1,img2)\n",
    "\n",
    "# if any difference between them then show it\n",
    "if diff.getbbox():\n",
    "    diff.show()"
   ]
  },
  {
   "cell_type": "code",
   "execution_count": null,
   "id": "ca49e2f4",
   "metadata": {},
   "outputs": [],
   "source": []
  },
  {
   "cell_type": "code",
   "execution_count": null,
   "id": "c80f1019",
   "metadata": {},
   "outputs": [],
   "source": []
  }
 ],
 "metadata": {
  "kernelspec": {
   "display_name": "Python 3 (ipykernel)",
   "language": "python",
   "name": "python3"
  },
  "language_info": {
   "codemirror_mode": {
    "name": "ipython",
    "version": 3
   },
   "file_extension": ".py",
   "mimetype": "text/x-python",
   "name": "python",
   "nbconvert_exporter": "python",
   "pygments_lexer": "ipython3",
   "version": "3.9.7"
  }
 },
 "nbformat": 4,
 "nbformat_minor": 5
}
